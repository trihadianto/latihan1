{
 "cells": [
  {
   "cell_type": "code",
   "execution_count": 8,
   "id": "55d051e0",
   "metadata": {},
   "outputs": [
    {
     "name": "stdout",
     "output_type": "stream",
     "text": [
      "nama : tri hadianto\n",
      "usia : 19\n",
      "sudah_menikah : False\n",
      "hobi : melihat wanita cantik\n",
      "mantan : 3\n",
      "mantan_kesatu : anya geraldine\n",
      "mantan_kedua : chelsie islan\n",
      "mantan_ketiga : han so he\n"
     ]
    }
   ],
   "source": [
    "nama = \"tri hadianto\"\n",
    "usia = 19\n",
    "sudah_menikah = False\n",
    "hobi = \"melihat wanita cantik\"\n",
    "mantan = 3\n",
    "mantan_kesatu = \"anya geraldine\"\n",
    "mantan_kedua = \"chelsie islan\"\n",
    "mantan_ketiga = \"han so he\"\n",
    "\n",
    "print('nama :',nama)\n",
    "print('usia :',usia)\n",
    "print('sudah_menikah :',sudah_menikah)\n",
    "print('hobi :',hobi)\n",
    "print('mantan :',mantan)\n",
    "print('mantan_kesatu :',mantan_kesatu)\n",
    "print('mantan_kedua :',mantan_kedua)\n",
    "print('mantan_ketiga :',mantan_ketiga)"
   ]
  },
  {
   "cell_type": "code",
   "execution_count": 9,
   "id": "cf5cdb58",
   "metadata": {},
   "outputs": [
    {
     "name": "stdout",
     "output_type": "stream",
     "text": [
      "a : 1\n",
      "b : 2\n",
      "c : mantap betul\n"
     ]
    }
   ],
   "source": [
    "a, b, c = 1, 2, \"mantap betul\"\n",
    "\n",
    "print('a :',a)\n",
    "print('b :',b)\n",
    "print('c :',c)"
   ]
  },
  {
   "cell_type": "code",
   "execution_count": 10,
   "id": "accafc8a",
   "metadata": {},
   "outputs": [
    {
     "name": "stdout",
     "output_type": "stream",
     "text": [
      "d : 10\n",
      "e : 10\n",
      "f : 10\n"
     ]
    }
   ],
   "source": [
    "d = e = f = 10\n",
    "\n",
    "print('d :',d)\n",
    "print('e :',e)\n",
    "print('f :',f)"
   ]
  },
  {
   "cell_type": "code",
   "execution_count": 29,
   "id": "21d60c02",
   "metadata": {},
   "outputs": [
    {
     "name": "stdout",
     "output_type": "stream",
     "text": [
      "a : 20\n",
      "a : 500\n",
      "b : 750\n",
      "d : 750\n",
      "d : 75\n"
     ]
    }
   ],
   "source": [
    "a = 5\n",
    "b = 15\n",
    "c = 10\n",
    "d = 50\n",
    "\n",
    "print('a :',a+b)\n",
    "print('a :',c*d)\n",
    "print('b :',b*d)\n",
    "print('d :',d*b)\n",
    "print('d :',d+c+b)"
   ]
  },
  {
   "cell_type": "code",
   "execution_count": 41,
   "id": "1e04f676",
   "metadata": {},
   "outputs": [
    {
     "name": "stdout",
     "output_type": "stream",
     "text": [
      "5 * 10.5 = 52.5\n",
      "tipe dari variabel panjang <class 'int'>\n",
      "tipe dari variarbl lebar <class 'float'>\n",
      "tipe dari variabrl luas <class 'float'>\n"
     ]
    }
   ],
   "source": [
    "panjang = 5\n",
    "lebar = 10.5\n",
    "luas = panjang*lebar\n",
    "\n",
    "print(panjang, '*', lebar, '=',luas)\n",
    "print(\"tipe dari variabel panjang\", type(panjang))\n",
    "print(\"tipe dari variarbl lebar\", type(lebar))\n",
    "print(\"tipe dari variabrl luas\", type(luas))"
   ]
  },
  {
   "cell_type": "code",
   "execution_count": 40,
   "id": "562e65d7",
   "metadata": {},
   "outputs": [
    {
     "name": "stdout",
     "output_type": "stream",
     "text": [
      "310\n"
     ]
    }
   ],
   "source": [
    "a = 3\n",
    "b = 3\n",
    "\n",
    "print('3'+'5')"
   ]
  },
  {
   "cell_type": "code",
   "execution_count": 42,
   "id": "750a13de",
   "metadata": {},
   "outputs": [
    {
     "name": "stdout",
     "output_type": "stream",
     "text": [
      "10 * 5 = 50\n",
      "tipe dari variabel alas <class 'int'>\n",
      "tipe dari variabel tinggi <class 'int'>\n",
      "tipe dari variabel luas <class 'int'>\n"
     ]
    }
   ],
   "source": [
    "alas = 10\n",
    "tinggi = 5\n",
    "luas = alas * tinggi\n",
    "\n",
    "print(alas, '*', tinggi, \"=\",luas)\n",
    "print(\"tipe dari variabel alas\",type(alas))\n",
    "print(\"tipe dari variabel tinggi\",type(tinggi))\n",
    "print(\"tipe dari variabel luas\",type(luas))"
   ]
  },
  {
   "cell_type": "code",
   "execution_count": 48,
   "id": "d953289e",
   "metadata": {},
   "outputs": [
    {
     "name": "stdout",
     "output_type": "stream",
     "text": [
      "luas segitiga 10 * 5 * 0.5 = 25.0\n"
     ]
    }
   ],
   "source": [
    "#luas segitiga\n",
    "alas = 10\n",
    "tinggi = 5\n",
    "rumus_luas = alas*tinggi*0.5\n",
    "\n",
    "print('luas segitiga', alas, '*',tinggi, '*', 0.5,'=',rumus_luas)"
   ]
  },
  {
   "cell_type": "code",
   "execution_count": 56,
   "id": "c341914a",
   "metadata": {},
   "outputs": [
    {
     "name": "stdout",
     "output_type": "stream",
     "text": [
      "hitung umur 2022 - 2003 = 19\n"
     ]
    }
   ],
   "source": [
    "#itung Umur\n",
    "tahun_lahir = 2003\n",
    "tahun_sekarang = 2022\n",
    "hitung_umur = tahun_sekarang - tahun_lahir\n",
    "\n",
    "print('hitung umur', tahun_sekarang, '-', tahun_lahir, '=',hitung_umur)"
   ]
  },
  {
   "cell_type": "code",
   "execution_count": 87,
   "id": "2293547b",
   "metadata": {},
   "outputs": [
    {
     "name": "stdout",
     "output_type": "stream",
     "text": [
      "Tri Hadianto (19) , dari Darmaga , kata mutiara : lebih baik gaji besar, daripada gaji kecil\n"
     ]
    }
   ],
   "source": [
    "#biodata\n",
    "nama_depan = \"Tri\"\n",
    "nama_belakang = \"Hadianto\"\n",
    "nama_lengkap = nama_depan + ' ' + nama_belakang\n",
    "usia ='19'\n",
    "alamat = 'Darmaga'\n",
    "kata_mutiara = \"lebih baik gaji besar, daripada gaji kecil\"\n",
    "\n",
    "print(nama_lengkap, '(' + usia + ')', ',', 'dari', alamat, ', kata mutiara :',kata_mutiara)\n",
    "\n"
   ]
  },
  {
   "cell_type": "code",
   "execution_count": 85,
   "id": "34095e35",
   "metadata": {},
   "outputs": [
    {
     "name": "stdout",
     "output_type": "stream",
     "text": [
      "sayasayasaya\n"
     ]
    }
   ],
   "source": [
    "#saya\n",
    "print('saya'*3)"
   ]
  },
  {
   "cell_type": "code",
   "execution_count": 70,
   "id": "659697a8",
   "metadata": {},
   "outputs": [
    {
     "name": "stdout",
     "output_type": "stream",
     "text": [
      "sayasaya\n"
     ]
    }
   ],
   "source": [
    "#saya2\n",
    "print('saya'+'saya')"
   ]
  },
  {
   "cell_type": "code",
   "execution_count": 77,
   "id": "290b6d98",
   "metadata": {},
   "outputs": [
    {
     "name": "stdout",
     "output_type": "stream",
     "text": [
      "saya\n",
      "saya\n",
      "saya\n"
     ]
    }
   ],
   "source": [
    "print(\"saya\\nsaya\\nsaya\")"
   ]
  },
  {
   "cell_type": "code",
   "execution_count": 83,
   "id": "5cdf6373",
   "metadata": {},
   "outputs": [
    {
     "name": "stdout",
     "output_type": "stream",
     "text": [
      "saya\n",
      "saya\n",
      "saya\n"
     ]
    }
   ],
   "source": [
    "print(\"\"\"saya\n",
    "saya\n",
    "saya\"\"\")"
   ]
  },
  {
   "cell_type": "code",
   "execution_count": 84,
   "id": "ef7c7fc8",
   "metadata": {},
   "outputs": [
    {
     "name": "stdout",
     "output_type": "stream",
     "text": [
      "apakah saya orang ganteng? True\n",
      "apakah saya adalah justin bieber? False\n",
      "tipe dari saya_orang-ganteng <class 'bool'>\n",
      "tipe dari saya_adalah_justin_bieber <class 'bool'>\n"
     ]
    }
   ],
   "source": [
    "saya_orang_ganteng = True\n",
    "saya_adalah_justin_bieber = False\n",
    "\n",
    "print('apakah saya orang ganteng?',saya_orang_ganteng)\n",
    "print('apakah saya adalah justin bieber?',saya_adalah_justin_bieber)\n",
    "print('tipe dari saya_orang-ganteng',type(saya_orang_ganteng))\n",
    "print('tipe dari saya_adalah_justin_bieber', type(saya_adalah_justin_bieber))"
   ]
  },
  {
   "cell_type": "code",
   "execution_count": 101,
   "id": "a16d11ef",
   "metadata": {},
   "outputs": [
    {
     "name": "stdout",
     "output_type": "stream",
     "text": [
      "False\n",
      "False\n",
      "False\n"
     ]
    }
   ],
   "source": [
    "foo = 12 < 10\n",
    "print(foo)\n",
    "\n",
    "foo = 10 > 12\n",
    "print(foo)\n",
    "\n",
    "foo = \"A\" == \"a\"\n",
    "print(foo)"
   ]
  },
  {
   "cell_type": "code",
   "execution_count": null,
   "id": "b914f974",
   "metadata": {},
   "outputs": [],
   "source": []
  }
 ],
 "metadata": {
  "kernelspec": {
   "display_name": "Python 3 (ipykernel)",
   "language": "python",
   "name": "python3"
  },
  "language_info": {
   "codemirror_mode": {
    "name": "ipython",
    "version": 3
   },
   "file_extension": ".py",
   "mimetype": "text/x-python",
   "name": "python",
   "nbconvert_exporter": "python",
   "pygments_lexer": "ipython3",
   "version": "3.9.12"
  }
 },
 "nbformat": 4,
 "nbformat_minor": 5
}
